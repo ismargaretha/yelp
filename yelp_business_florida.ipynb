{
 "cells": [
  {
   "cell_type": "code",
   "execution_count": 1,
   "metadata": {},
   "outputs": [],
   "source": [
    "import json\n",
    "import simplejson"
   ]
  },
  {
   "cell_type": "code",
   "execution_count": 2,
   "metadata": {},
   "outputs": [
    {
     "name": "stderr",
     "output_type": "stream",
     "text": [
      "IOPub data rate exceeded.\n",
      "The notebook server will temporarily stop sending output\n",
      "to the client in order to avoid crashing it.\n",
      "To change this limit, set the config variable\n",
      "`--NotebookApp.iopub_data_rate_limit`.\n",
      "\n",
      "Current values:\n",
      "NotebookApp.iopub_data_rate_limit=1000000.0 (bytes/sec)\n",
      "NotebookApp.rate_limit_window=3.0 (secs)\n",
      "\n"
     ]
    }
   ],
   "source": [
    "# Opening JSON file\n",
    "with open('business.json', encoding='utf-8') as fh:\n",
    "    \n",
    "    # Transform json input to python objects\n",
    "    input_dict = json.load(fh)\n",
    "    \n",
    "    # Filter python objects with list comprehensions\n",
    "    output_dict = [x for x in input_dict if x['state'] == 'FL']\n",
    "    \n",
    "    # Transform python object back into json\n",
    "    output_json = json.dumps(output_dict)\n",
    "\n",
    "# Show json\n",
    "print(output_json)"
   ]
  },
  {
   "cell_type": "code",
   "execution_count": 3,
   "metadata": {},
   "outputs": [],
   "source": [
    "# Create a copy of business.json above and save it as business - cleaned.json\n",
    "# Format and save json\n",
    "\n",
    "# Open the FL filtered result\n",
    "output_businessfl = open('business - cleaned.json', 'w')\n",
    "\n",
    "# Write to the file and save it formatted using simplejson\n",
    "output_businessfl.write(simplejson.dumps(simplejson.loads(output_json), indent=4, sort_keys=True))\n",
    "output_businessfl.close()"
   ]
  }
 ],
 "metadata": {
  "kernelspec": {
   "display_name": "Python 3 (ipykernel)",
   "language": "python",
   "name": "python3"
  },
  "language_info": {
   "codemirror_mode": {
    "name": "ipython",
    "version": 3
   },
   "file_extension": ".py",
   "mimetype": "text/x-python",
   "name": "python",
   "nbconvert_exporter": "python",
   "pygments_lexer": "ipython3",
   "version": "3.8.8"
  },
  "toc": {
   "base_numbering": 1,
   "nav_menu": {},
   "number_sections": true,
   "sideBar": true,
   "skip_h1_title": false,
   "title_cell": "Table of Contents",
   "title_sidebar": "Contents",
   "toc_cell": false,
   "toc_position": {},
   "toc_section_display": true,
   "toc_window_display": false
  }
 },
 "nbformat": 4,
 "nbformat_minor": 2
}
